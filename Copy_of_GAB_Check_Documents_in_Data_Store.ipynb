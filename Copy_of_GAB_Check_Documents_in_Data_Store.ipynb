{
  "nbformat": 4,
  "nbformat_minor": 0,
  "metadata": {
    "colab": {
      "provenance": [],
      "include_colab_link": true
    },
    "kernelspec": {
      "name": "python3",
      "display_name": "Python 3"
    },
    "language_info": {
      "name": "python"
    }
  },
  "cells": [
    {
      "cell_type": "markdown",
      "metadata": {
        "id": "view-in-github",
        "colab_type": "text"
      },
      "source": [
        "<a href=\"https://colab.research.google.com/github/mumanoha/genai/blob/main/Copy_of_GAB_Check_Documents_in_Data_Store.ipynb\" target=\"_parent\"><img src=\"https://colab.research.google.com/assets/colab-badge.svg\" alt=\"Open In Colab\"/></a>"
      ]
    },
    {
      "cell_type": "markdown",
      "source": [
        "# TLDR\n",
        "Simple notebook that uses the Cloud DiscoveryEngine API to check a Data Store for indexed docs.\n",
        "\n",
        "* Author: [pmarlow@](https://moma.corp.google.com/person/pmarlow)\n",
        "* Date: 07/17/23"
      ],
      "metadata": {
        "id": "NVMkfa_szAa5"
      }
    },
    {
      "cell_type": "code",
      "execution_count": null,
      "metadata": {
        "colab": {
          "base_uri": "https://localhost:8080/",
          "height": 381
        },
        "id": "o4Ubr41-Zr5E",
        "outputId": "29f5af53-3b8a-405c-b629-3c26d0173d70"
      },
      "outputs": [
        {
          "output_type": "stream",
          "name": "stdout",
          "text": [
            "\u001b[2K     \u001b[90m━━━━━━━━━━━━━━━━━━━━━━━━━━━━━━━━━━━━━━━\u001b[0m \u001b[32m431.8/431.8 kB\u001b[0m \u001b[31m2.8 MB/s\u001b[0m eta \u001b[36m0:00:00\u001b[0m\n",
            "\u001b[?25h"
          ]
        },
        {
          "output_type": "error",
          "ename": "MessageError",
          "evalue": "ignored",
          "traceback": [
            "\u001b[0;31m---------------------------------------------------------------------------\u001b[0m",
            "\u001b[0;31mMessageError\u001b[0m                              Traceback (most recent call last)",
            "\u001b[0;32m<ipython-input-1-806cf07c1713>\u001b[0m in \u001b[0;36m<cell line: 6>\u001b[0;34m()\u001b[0m\n\u001b[1;32m      4\u001b[0m \u001b[0;32mfrom\u001b[0m \u001b[0mgoogle\u001b[0m\u001b[0;34m.\u001b[0m\u001b[0mauth\u001b[0m \u001b[0;32mimport\u001b[0m \u001b[0mdefault\u001b[0m\u001b[0;34m\u001b[0m\u001b[0;34m\u001b[0m\u001b[0m\n\u001b[1;32m      5\u001b[0m \u001b[0;34m\u001b[0m\u001b[0m\n\u001b[0;32m----> 6\u001b[0;31m \u001b[0mauth\u001b[0m\u001b[0;34m.\u001b[0m\u001b[0mauthenticate_user\u001b[0m\u001b[0;34m(\u001b[0m\u001b[0;34m)\u001b[0m\u001b[0;34m\u001b[0m\u001b[0;34m\u001b[0m\u001b[0m\n\u001b[0m\u001b[1;32m      7\u001b[0m \u001b[0mcreds\u001b[0m\u001b[0;34m,\u001b[0m \u001b[0m_\u001b[0m \u001b[0;34m=\u001b[0m \u001b[0mdefault\u001b[0m\u001b[0;34m(\u001b[0m\u001b[0;34m)\u001b[0m\u001b[0;34m\u001b[0m\u001b[0;34m\u001b[0m\u001b[0m\n",
            "\u001b[0;32m/usr/local/lib/python3.10/dist-packages/google/colab/auth.py\u001b[0m in \u001b[0;36mauthenticate_user\u001b[0;34m(clear_output, project_id)\u001b[0m\n\u001b[1;32m    279\u001b[0m   \u001b[0;32mif\u001b[0m \u001b[0;32mnot\u001b[0m \u001b[0m_check_adc\u001b[0m\u001b[0;34m(\u001b[0m\u001b[0m_CredentialType\u001b[0m\u001b[0;34m.\u001b[0m\u001b[0mUSER\u001b[0m\u001b[0;34m)\u001b[0m\u001b[0;34m:\u001b[0m\u001b[0;34m\u001b[0m\u001b[0;34m\u001b[0m\u001b[0m\n\u001b[1;32m    280\u001b[0m     \u001b[0;32mif\u001b[0m \u001b[0muse_auth_ephem\u001b[0m\u001b[0;34m:\u001b[0m\u001b[0;34m\u001b[0m\u001b[0;34m\u001b[0m\u001b[0m\n\u001b[0;32m--> 281\u001b[0;31m       _message.blocking_request(\n\u001b[0m\u001b[1;32m    282\u001b[0m           \u001b[0;34m'request_auth'\u001b[0m\u001b[0;34m,\u001b[0m\u001b[0;34m\u001b[0m\u001b[0;34m\u001b[0m\u001b[0m\n\u001b[1;32m    283\u001b[0m           \u001b[0mrequest\u001b[0m\u001b[0;34m=\u001b[0m\u001b[0;34m{\u001b[0m\u001b[0;34m'authType'\u001b[0m\u001b[0;34m:\u001b[0m \u001b[0;34m'auth_user_ephemeral'\u001b[0m\u001b[0;34m}\u001b[0m\u001b[0;34m,\u001b[0m\u001b[0;34m\u001b[0m\u001b[0;34m\u001b[0m\u001b[0m\n",
            "\u001b[0;32m/usr/local/lib/python3.10/dist-packages/google/colab/_message.py\u001b[0m in \u001b[0;36mblocking_request\u001b[0;34m(request_type, request, timeout_sec, parent)\u001b[0m\n\u001b[1;32m    174\u001b[0m       \u001b[0mrequest_type\u001b[0m\u001b[0;34m,\u001b[0m \u001b[0mrequest\u001b[0m\u001b[0;34m,\u001b[0m \u001b[0mparent\u001b[0m\u001b[0;34m=\u001b[0m\u001b[0mparent\u001b[0m\u001b[0;34m,\u001b[0m \u001b[0mexpect_reply\u001b[0m\u001b[0;34m=\u001b[0m\u001b[0;32mTrue\u001b[0m\u001b[0;34m\u001b[0m\u001b[0;34m\u001b[0m\u001b[0m\n\u001b[1;32m    175\u001b[0m   )\n\u001b[0;32m--> 176\u001b[0;31m   \u001b[0;32mreturn\u001b[0m \u001b[0mread_reply_from_input\u001b[0m\u001b[0;34m(\u001b[0m\u001b[0mrequest_id\u001b[0m\u001b[0;34m,\u001b[0m \u001b[0mtimeout_sec\u001b[0m\u001b[0;34m)\u001b[0m\u001b[0;34m\u001b[0m\u001b[0;34m\u001b[0m\u001b[0m\n\u001b[0m",
            "\u001b[0;32m/usr/local/lib/python3.10/dist-packages/google/colab/_message.py\u001b[0m in \u001b[0;36mread_reply_from_input\u001b[0;34m(message_id, timeout_sec)\u001b[0m\n\u001b[1;32m    101\u001b[0m     ):\n\u001b[1;32m    102\u001b[0m       \u001b[0;32mif\u001b[0m \u001b[0;34m'error'\u001b[0m \u001b[0;32min\u001b[0m \u001b[0mreply\u001b[0m\u001b[0;34m:\u001b[0m\u001b[0;34m\u001b[0m\u001b[0;34m\u001b[0m\u001b[0m\n\u001b[0;32m--> 103\u001b[0;31m         \u001b[0;32mraise\u001b[0m \u001b[0mMessageError\u001b[0m\u001b[0;34m(\u001b[0m\u001b[0mreply\u001b[0m\u001b[0;34m[\u001b[0m\u001b[0;34m'error'\u001b[0m\u001b[0;34m]\u001b[0m\u001b[0;34m)\u001b[0m\u001b[0;34m\u001b[0m\u001b[0;34m\u001b[0m\u001b[0m\n\u001b[0m\u001b[1;32m    104\u001b[0m       \u001b[0;32mreturn\u001b[0m \u001b[0mreply\u001b[0m\u001b[0;34m.\u001b[0m\u001b[0mget\u001b[0m\u001b[0;34m(\u001b[0m\u001b[0;34m'data'\u001b[0m\u001b[0;34m,\u001b[0m \u001b[0;32mNone\u001b[0m\u001b[0;34m)\u001b[0m\u001b[0;34m\u001b[0m\u001b[0;34m\u001b[0m\u001b[0m\n\u001b[1;32m    105\u001b[0m \u001b[0;34m\u001b[0m\u001b[0m\n",
            "\u001b[0;31mMessageError\u001b[0m: Error: credential propagation was unsuccessful"
          ]
        }
      ],
      "source": [
        "!pip install google-cloud-discoveryengine --quiet\n",
        "\n",
        "from google.colab import auth\n",
        "from google.auth import default\n",
        "\n",
        "auth.authenticate_user()\n",
        "creds, _ = default()"
      ]
    },
    {
      "cell_type": "markdown",
      "source": [
        "# DiscoveryEngine Client and Helper Functions"
      ],
      "metadata": {
        "id": "Kw7MdJWUh0ee"
      }
    },
    {
      "cell_type": "code",
      "source": [
        "from google.cloud import discoveryengine_v1\n",
        "from typing import List\n",
        "\n",
        "def list_documents(project_id: str, location: str, datastore_id: str):\n",
        "  \"\"\"Gets a list of docs in a datastore.\"\"\"\n",
        "  client = discoveryengine_v1.DocumentServiceClient()\n",
        "\n",
        "  request = discoveryengine_v1.ListDocumentsRequest(\n",
        "      parent=f'projects/{project_id}/locations/{location}/collections/default_collection/dataStores/{datastore_id}/branches/0'\n",
        "  )\n",
        "\n",
        "  res = client.list_documents(request=request)\n",
        "\n",
        "  return list(res)\n",
        "\n",
        "def list_indexed_urls(project_id: str, location: str, datastore_id: str):\n",
        "  \"\"\"Get the list of docs in datastore, then parse to only urls.\"\"\"\n",
        "  docs = list_documents(project_id, location, datastore_id)\n",
        "  urls = [doc.content.uri for doc in docs]\n",
        "\n",
        "  return urls\n",
        "\n",
        "def search_url(urls: List[str], url: str):\n",
        "  \"\"\"Searches a url in a list of urls.\"\"\"\n",
        "  for item in urls:\n",
        "    if url in item:\n",
        "      print(item)"
      ],
      "metadata": {
        "id": "vMENQHbYh4c6"
      },
      "execution_count": null,
      "outputs": []
    },
    {
      "cell_type": "markdown",
      "source": [
        "# USER INPUTS\n",
        "You can find your `datastore_id` by going following these steps:\n",
        "1. Click on Gen App Builder\n",
        "2. Select your App / Engine - https://screenshot.googleplex.com/9J4nfmfDhpvU7PK\n",
        "3. Select your Available Data Store - https://screenshot.googleplex.com/4j3XxCFPoq3zXLo\n",
        "4. Find your Data Store ID - https://screenshot.googleplex.com/Ad5cGZQbVEbdqfm"
      ],
      "metadata": {
        "id": "peS3WvDglJJr"
      }
    },
    {
      "cell_type": "code",
      "source": [
        "project_id = 'pmarlow-ccai-dev'\n",
        "location = 'global'\n",
        "datastore_id = 'yeti-chatbot_1688158303521'"
      ],
      "metadata": {
        "id": "Y9_UMYuIlMco"
      },
      "execution_count": null,
      "outputs": []
    },
    {
      "cell_type": "markdown",
      "source": [
        "# List Documents (in Data Store)\n",
        "If you run this and it errors out with `IndexError: list index out of range` that means that there are no docs in your Data Store yet.  \n",
        "So either indexing has not completed, or it has failed.  \n",
        "\n",
        "TODO: Add method for finding failure reasons"
      ],
      "metadata": {
        "id": "66rhtTTyagwX"
      }
    },
    {
      "cell_type": "code",
      "source": [
        "docs = list_documents(project_id, location, datastore_id)\n",
        "docs[0]"
      ],
      "metadata": {
        "colab": {
          "base_uri": "https://localhost:8080/"
        },
        "id": "dqRGjhf4ZxPY",
        "outputId": "693f8753-b730-4c49-c055-4fd80f12da02"
      },
      "execution_count": null,
      "outputs": [
        {
          "output_type": "execute_result",
          "data": {
            "text/plain": [
              "name: \"projects/772105163160/locations/global/collections/default_collection/dataStores/yeti-chatbot_1688158303521/branches/0/documents/002f4c29ea9dfa7a83af8c23dd0b1816\"\n",
              "id: \"002f4c29ea9dfa7a83af8c23dd0b1816\"\n",
              "schema_id: \"default_schema\"\n",
              "struct_data {\n",
              "}\n",
              "parent_document_id: \"002f4c29ea9dfa7a83af8c23dd0b1816\"\n",
              "content {\n",
              "  mime_type: \"text/html\"\n",
              "  uri: \"https://www.yeti.com/shop-by-color/navy/21070140015.html?bvstate=pg:2/ct:r\"\n",
              "}"
            ]
          },
          "metadata": {},
          "execution_count": 5
        }
      ]
    },
    {
      "cell_type": "markdown",
      "source": [
        "# List Indexed URLs"
      ],
      "metadata": {
        "id": "hf4OXlEklmEC"
      }
    },
    {
      "cell_type": "code",
      "source": [
        "urls = list_indexed_urls(project_id, location, datastore_id)\n",
        "urls[0]"
      ],
      "metadata": {
        "colab": {
          "base_uri": "https://localhost:8080/",
          "height": 35
        },
        "id": "xfC7lCXnloGQ",
        "outputId": "eb7a7c33-01ac-43d0-d0fa-c097cf57b575"
      },
      "execution_count": null,
      "outputs": [
        {
          "output_type": "execute_result",
          "data": {
            "text/plain": [
              "'https://www.yeti.com/shop-by-color/navy/21070140015.html?bvstate=pg:2/ct:r'"
            ],
            "application/vnd.google.colaboratory.intrinsic+json": {
              "type": "string"
            }
          },
          "metadata": {},
          "execution_count": 6
        }
      ]
    },
    {
      "cell_type": "markdown",
      "source": [
        "# Search Indexed URLs"
      ],
      "metadata": {
        "id": "LvJkoLKdlymc"
      }
    },
    {
      "cell_type": "code",
      "source": [
        "search_url(urls, 'https://www.yeti.com/bags/luggage')"
      ],
      "metadata": {
        "colab": {
          "base_uri": "https://localhost:8080/"
        },
        "id": "n23J9dAUasyA",
        "outputId": "5bd6e6dc-08c5-4062-f8cf-294a96f4503c"
      },
      "execution_count": null,
      "outputs": [
        {
          "output_type": "stream",
          "name": "stdout",
          "text": [
            "https://www.yeti.com/bags/luggage/26010000103.html?bvstate=pg:2/ct:r\n",
            "https://www.yeti.com/bags/luggage/crossroads-luggage-29in.html\n",
            "https://www.yeti.com/bags/luggage/18060131085.html?bvstate=pg:2/ct:r\n",
            "https://www.yeti.com/bags/luggage/crossroads-luggage-29in.html?bvstate=pg:2/ct:r\n",
            "https://www.yeti.com/bags/luggage/crossroads-luggage-22in.html\n",
            "https://www.yeti.com/bags/luggage\n"
          ]
        }
      ]
    },
    {
      "cell_type": "code",
      "source": [
        "search_url(urls, 'tundra-250')"
      ],
      "metadata": {
        "colab": {
          "base_uri": "https://localhost:8080/"
        },
        "id": "vuED7LH4l8o5",
        "outputId": "94ce8c54-753f-41a3-e756-c8f8f7edc236"
      },
      "execution_count": null,
      "outputs": [
        {
          "output_type": "stream",
          "name": "stdout",
          "text": [
            "https://www.yeti.com/coolers/hard-coolers/tundra/tundra-250.html\n",
            "https://www.yeti.com/coolers/hard-coolers/tundra/tundra-250.html?bvstate=pg:2/ct:r\n"
          ]
        }
      ]
    },
    {
      "cell_type": "code",
      "source": [],
      "metadata": {
        "id": "LNF02I0yhv9u"
      },
      "execution_count": null,
      "outputs": []
    }
  ]
}